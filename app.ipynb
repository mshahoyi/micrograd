{
 "cells": [
  {
   "cell_type": "code",
   "execution_count": 1,
   "metadata": {},
   "outputs": [],
   "source": [
    "x = 2\n",
    "b = 1"
   ]
  },
  {
   "cell_type": "code",
   "execution_count": 2,
   "metadata": {},
   "outputs": [
    {
     "data": {
      "text/plain": [
       "3"
      ]
     },
     "execution_count": 2,
     "metadata": {},
     "output_type": "execute_result"
    }
   ],
   "source": [
    "x + b"
   ]
  },
  {
   "cell_type": "code",
   "execution_count": 7,
   "metadata": {},
   "outputs": [],
   "source": [
    "import torch\n",
    "import numpy"
   ]
  },
  {
   "cell_type": "code",
   "execution_count": 10,
   "metadata": {},
   "outputs": [],
   "source": [
    "xt = torch.tensor(2.0, requires_grad=True)\n",
    "bt = torch.tensor(1.0)"
   ]
  },
  {
   "cell_type": "code",
   "execution_count": 11,
   "metadata": {},
   "outputs": [
    {
     "data": {
      "text/plain": [
       "tensor(3., grad_fn=<AddBackward0>)"
      ]
     },
     "execution_count": 11,
     "metadata": {},
     "output_type": "execute_result"
    }
   ],
   "source": [
    "y = xt + bt; y"
   ]
  },
  {
   "cell_type": "code",
   "execution_count": 12,
   "metadata": {},
   "outputs": [],
   "source": [
    "y.backward()"
   ]
  },
  {
   "cell_type": "code",
   "execution_count": 13,
   "metadata": {},
   "outputs": [
    {
     "data": {
      "text/plain": [
       "tensor(1.)"
      ]
     },
     "execution_count": 13,
     "metadata": {},
     "output_type": "execute_result"
    }
   ],
   "source": [
    "xt.grad"
   ]
  },
  {
   "cell_type": "code",
   "execution_count": 90,
   "metadata": {},
   "outputs": [
    {
     "name": "stdout",
     "output_type": "stream",
     "text": [
      "yv: -0.25 yt: tensor(-0.2500, grad_fn=<SubBackward0>)\n",
      "xv.grad: -0.375 xt.grad: tensor(-0.3750)\n"
     ]
    }
   ],
   "source": [
    "import pdb\n",
    "\n",
    "class Value:\n",
    "    def __init__(self, v, left=None, right=None):\n",
    "        self.v = v\n",
    "        self.left = left\n",
    "        self.right = right\n",
    "        self.g = None\n",
    "        self.out = None\n",
    "    \n",
    "    def __add__(self, value):\n",
    "        result = self.v + getattr(value, \"v\", value)\n",
    "        return self._forward(result, \"+\", value)\n",
    "    \n",
    "    def __radd__(self, value):\n",
    "        return self.__radd__(value)\n",
    "    \n",
    "    def __mul__(self, value):\n",
    "        result = self.v * getattr(value, \"v\", value)\n",
    "        return self._forward(result, \"*\", value)\n",
    "    \n",
    "    def __rmul__(self, value):\n",
    "        return self.__mul__(value)\n",
    "    \n",
    "    def __pow__(self, value):\n",
    "        result = self.v ** getattr(value, \"v\", value)\n",
    "        return self._forward(result, \"pow\", value)\n",
    "    \n",
    "    def __sub__(self, value):\n",
    "        return self + -1 * value\n",
    "    \n",
    "    def __rsub__(self, value):\n",
    "        return value + -1 * self\n",
    "    \n",
    "    def __truediv__(self, value):\n",
    "        return self * value ** -1\n",
    "    \n",
    "    def __rtruediv__(self, value):\n",
    "        return value * self ** -1\n",
    "    \n",
    "    def _forward(self, result, op, other):\n",
    "        self.op = op\n",
    "        self.inp = getattr(other, \"v\", other)\n",
    "        self.out = Value(result, self, other if isinstance(other, Value) else None)\n",
    "        return self.out\n",
    "\n",
    "    def __repr__(self) -> str:\n",
    "        return str(self.v)\n",
    "    \n",
    "    def _calc_grad(self):\n",
    "        if self.op == \"*\": return self.inp\n",
    "        elif self.op == '+': return 1\n",
    "        elif self.op == 'pow': return self.inp * self.v ** (self.inp - 1)\n",
    "        else: raise \"Operation not implemented\"\n",
    "\n",
    "    def backward(self):\n",
    "        if self.out is None: self.g = 1\n",
    "        else: self.g = self.out.g * self._calc_grad()\n",
    "\n",
    "        if self.right is not None: self.right.backward()\n",
    "        if self.left is not None: self.left.backward()\n",
    "\n",
    "xv, xt = Value(4), torch.tensor(4., requires_grad=True)\n",
    "bv, bt = Value(1), torch.tensor(1., requires_grad=True)\n",
    "\n",
    "yv = 3 * (2 / xv) ** 2 + bv - 2\n",
    "yt = 3 * (2 / xt) ** 2 + bt - 2\n",
    "\n",
    "yv.backward()\n",
    "yt.backward()\n",
    "\n",
    "print(\"yv:\", yv, \"yt:\", yt)\n",
    "print(\"xv.grad:\", xv.g, \"xt.grad:\", xt.grad)\n",
    "\n",
    "assert yv.g == 1\n",
    "assert yv.v == yt.item()\n",
    "assert bv.g == bt.grad\n",
    "assert xv.g == xt.grad"
   ]
  },
  {
   "cell_type": "code",
   "execution_count": null,
   "metadata": {},
   "outputs": [],
   "source": []
  }
 ],
 "metadata": {
  "kernelspec": {
   "display_name": ".venv",
   "language": "python",
   "name": "python3"
  },
  "language_info": {
   "codemirror_mode": {
    "name": "ipython",
    "version": 3
   },
   "file_extension": ".py",
   "mimetype": "text/x-python",
   "name": "python",
   "nbconvert_exporter": "python",
   "pygments_lexer": "ipython3",
   "version": "3.11.7"
  }
 },
 "nbformat": 4,
 "nbformat_minor": 2
}
